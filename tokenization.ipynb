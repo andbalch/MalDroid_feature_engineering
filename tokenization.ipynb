{
 "metadata": {
  "language_info": {
   "codemirror_mode": {
    "name": "ipython",
    "version": 3
   },
   "file_extension": ".py",
   "mimetype": "text/x-python",
   "name": "python",
   "nbconvert_exporter": "python",
   "pygments_lexer": "ipython3",
   "version": "3.7.7-final"
  },
  "orig_nbformat": 2,
  "kernelspec": {
   "name": "python3",
   "display_name": "Python 3",
   "language": "python"
  }
 },
 "nbformat": 4,
 "nbformat_minor": 2,
 "cells": [
  {
   "source": [
    "# Tokenization\n",
    "The goal of this notebook is to decide on a pre-built tokenization algorithm for the sample JSON data. "
   ],
   "cell_type": "markdown",
   "metadata": {}
  },
  {
   "cell_type": "code",
   "execution_count": 6,
   "metadata": {},
   "outputs": [],
   "source": [
    "# import tensorflow as tf\n",
    "import pandas as pd \n",
    "import os\n",
    "import json \n",
    "import numpy as np\n",
    "# import tensorflow_text as text\n",
    "import ast\n",
    "import matplotlib.pyplot as plt\n",
    "import seaborn as sns\n",
    "%matplotlib inline"
   ]
  },
  {
   "source": [
    "## Test WordPiece Vocabulary\n",
    "WordPiece is BERTs tokenizer and we can use it to generate a custom vocabulary from our data. This is a test with a sample JSON to see what this kind of vocab would look like. This is a potential alternative to a custom algorithm as it creates a vocab iteratively from subwords. \n",
    "Requires: tensorflow_text_nightly and tf-nightly"
   ],
   "cell_type": "markdown",
   "metadata": {}
  },
  {
   "source": [
    "Testing with different vocabulary length yielded mixed results where it was sometimes able to effectively pick out pertinent tokens but mostly fixated on smaller tokens found in the structure of the JSON file or behavior parameters, most of which being unnecessary. A custom algorithm or reference dictionary will likely need to be developed."
   ],
   "cell_type": "markdown",
   "metadata": {}
  },
  {
   "cell_type": "code",
   "execution_count": null,
   "metadata": {},
   "outputs": [],
   "source": [
    "from tensorflow_text.tools.wordpiece_vocab import bert_vocab_from_dataset as bert_vocab"
   ]
  },
  {
   "cell_type": "code",
   "execution_count": 7,
   "metadata": {},
   "outputs": [],
   "source": [
    "# Takes rand sample of data to form test dataset for dict building\n",
    "\n",
    "adware_sample = np.random.randint(0, high=886, size=(1,100))\n",
    "banking_sample = np.random.randint(0, high=2048, size=(1,100))\n",
    "riskware_sample = np.random.randint(0, high=2373, size=(1,100))\n",
    "sms_sample = np.random.randint(0, high=3852, size=(1,100))\n",
    "\n",
    "sample_mat = np.concatenate((adware_sample, banking_sample), axis=0)\n",
    "sample_mat = np.concatenate((sample_mat, riskware_sample), axis=0)\n",
    "sample_mat = np.concatenate((sample_mat, sms_sample), axis=0)\n",
    "\n",
    "dir_list = ['adware', 'banking', 'riskware', 'sms']\n",
    "\n",
    "# train_data = tf.data.TextLineDataset(str('adware\\\\' + os.listdir('adware')[sample_mat[0,0]] + '\\\\sample_for_analysis.apk.json'))\n",
    "\n",
    "# mat_index = 0\n",
    "# for sample_dir in dir_list: \n",
    "#     sample_list = os.listdir(sample_dir)\n",
    "#     if sample_dir is 'adware':\n",
    "#         start_index = 1\n",
    "#     else:\n",
    "#         start_index = 0\n",
    "#     for rand_ind in sample_mat[mat_index,start_index:]:\n",
    "#         train_data.concatenate(tf.data.TextLineDataset(str(sample_dir + '\\\\' + sample_list[rand_ind] + '\\\\sample_for_analysis.apk.json')))\n",
    "#     mat_index += 1"
   ]
  },
  {
   "cell_type": "code",
   "execution_count": null,
   "metadata": {},
   "outputs": [],
   "source": [
    "# bert_tokenizer_params=dict(lower_case=True)\n",
    "# reserved_tokens=[\"[PAD]\", \"[UNK]\", \"[START]\", \"[END]\"]\n",
    "\n",
    "# bert_vocab_args = dict(\n",
    "#     # The target vocabulary size\n",
    "#     vocab_size = 800,\n",
    "#     # Reserved tokens that must be included in the vocabulary\n",
    "#     reserved_tokens=reserved_tokens,\n",
    "#     # Arguments for `text.BertTokenizer`\n",
    "#     bert_tokenizer_params=bert_tokenizer_params,\n",
    "#     # Arguments for `wordpiece_vocab.wordpiece_tokenizer_learner_lib.learn`\n",
    "#     learn_params={},\n",
    "# )\n",
    "\n",
    "# test_vocab = bert_vocab.bert_vocab_from_dataset(\n",
    "#     train_data.shuffle(45).batch(45).prefetch(2),\n",
    "#     **bert_vocab_args\n",
    "# )\n",
    "\n",
    "# with open('test_vocab_rand_sample.txt', 'w') as f:\n",
    "#     for token in test_vocab:\n",
    "#         print(token, file=f)"
   ]
  },
  {
   "source": [
    "## Custom Tokenization\n",
    "Due to the apparent underperformance of pre-built models in deriving their own dictionaries, a custom method is required. The goal of this process is to derive reusable tokens and preserve the contextual, nested structure of the JSON file. We will do this by iteratively extracting tokens from a random sample until no meaningful (frequent) tokens remain."
   ],
   "cell_type": "markdown",
   "metadata": {}
  },
  {
   "cell_type": "code",
   "execution_count": 8,
   "metadata": {},
   "outputs": [],
   "source": [
    "#grabs rand sample from mat above\n",
    "sample_data = []\n",
    "\n",
    "mat_index = 0\n",
    "for sample_dir in dir_list: \n",
    "    sample_list = os.listdir(sample_dir)\n",
    "    for rand_ind in sample_mat[mat_index, 0:]:\n",
    "        with open(sample_dir + '\\\\' + sample_list[rand_ind] + '\\\\sample_for_analysis.apk.json') as sample_file:\n",
    "            sample_data.append(sample_file.read().replace(\"\\n\", \" \"))\n",
    "    mat_index += 1"
   ]
  },
  {
   "cell_type": "code",
   "execution_count": null,
   "metadata": {},
   "outputs": [],
   "source": [
    "# See the frequency of all high level keys\n",
    "high_keys = []\n",
    "\n",
    "for sample in sample_data:\n",
    "    sample_json = json.loads(sample)['behaviors']['dynamic']['host']\n",
    "    for behavior in sample_json:\n",
    "        for key in behavior.keys():\n",
    "            high_keys.append(key)\n",
    "\n",
    "high_uniq_keys, high_frequency = np.unique(high_keys, return_counts=True)\n",
    "print(high_uniq_keys)\n",
    "print(high_frequency)"
   ]
  },
  {
   "source": [
    "### High Level Tokens\n",
    "Inspection of high-level keys in a random sample revealed 11 keys\n",
    "* class\n",
    "* classType\n",
    "* interface\n",
    "* interfaceGroup\n",
    "* method\n",
    "* operationFlags\n",
    "* procname\n",
    "* subclass\n",
    "* tid\n",
    "* low\n",
    "* arguments\n",
    "#\n",
    "Of these 11, low contains lower-level features as a list of dicts. arguments contains a list of strings"
   ],
   "cell_type": "markdown",
   "metadata": {}
  },
  {
   "cell_type": "code",
   "execution_count": null,
   "metadata": {},
   "outputs": [],
   "source": [
    "# See the frequency of low-level tokens\n",
    "low_keys = []\n",
    "for sample in sample_data:\n",
    "    sample_json = json.loads(sample)['behaviors']['dynamic']['host']\n",
    "    for behavior in sample_json:\n",
    "        for low_behavior in behavior['low']:\n",
    "            for key in low_behavior.keys():\n",
    "                low_keys.append(key)\n",
    "\n",
    "low_uniq_keys, low_frequency = np.unique(low_keys, return_counts=True)\n",
    "print(low_uniq_keys)\n",
    "print(low_frequency)"
   ]
  },
  {
   "source": [
    "### Low Level Tokens\n",
    "Inspection of high-level tokens in a random sample revealed 12 keys\n",
    "* blob\n",
    "* id\n",
    "* methodName\n",
    "* method_name\n",
    "* parameters\n",
    "* read fd\n",
    "* socket fd\n",
    "* sysname\n",
    "* ts \n",
    "* type\n",
    "* write fd\n",
    "* xref\n",
    "#\n",
    "blob and parameters contain lowest-level features, where blob is a dict as a string and contains formatting abnormalities, it can also contain a normal string. parameters is a list of strings and/or ints\n",
    "# \n",
    "methodName and method_name differ where the former seems to be used in the context of a BINDER class. The latter seems exclusive to the ACCESS PERSONAL INFO class, but still with type binder"
   ],
   "cell_type": "markdown",
   "metadata": {}
  },
  {
   "cell_type": "code",
   "execution_count": null,
   "metadata": {},
   "outputs": [],
   "source": [
    "# See the frequency of low-level tokens\n",
    "# lowest_keys = []\n",
    "# for sample in sample_data:\n",
    "#     sample_json = json.loads(sample)['behaviors']['dynamic']['host']\n",
    "#     for behavior in sample_json:\n",
    "#         for low_behavior in behavior['low']:\n",
    "#             for key in low_behavior.keys():\n",
    "#                 if key == 'blob':\n",
    "#                     string_dict = low_behavior['blob']\n",
    "#                     if type(string_dict) is dict:\n",
    "#                         for lowest_key in string_dict.keys():\n",
    "#                             lowest_keys.append(lowest_key)\n",
    "#                     else:\n",
    "#                         string_dict = string_dict.replace(\"L,\", \",\")\n",
    "#                         string_dict = string_dict.replace(\"L}\", \"}\")\n",
    "#                         string_dict = string_dict.replace(\"u\\'\", \"\\'\")\n",
    "#                         string_dict = string_dict.replace(\"\\'\", \"\\\"\")\n",
    "#                         try:\n",
    "#                             string_dict = ast.literal_eval(string_dict)\n",
    "#                         except:\n",
    "#                             pass\n",
    "#                         if type(string_dict) is dict:\n",
    "#                             for lowest_key in string_dict.keys():\n",
    "#                                 lowest_keys.append(lowest_key)\n",
    "\n",
    "# lowest_uniq_keys, lowest_frequency = np.unique(lowest_keys, return_counts=True)\n",
    "# print(lowest_uniq_keys)\n",
    "# print(lowest_frequency)"
   ]
  },
  {
   "source": [
    "### Lowest Level Tokens\n",
    "Keys in blob contained wildly varying frequencies, see the sample output below:\n",
    "#\n",
    "['devicename' 'dirname' 'filename' 'flags' 'host' 'mode' 'pid' 'port'\n",
    " 'query_data' 'returnValue' 'size' 'socket domain' 'socket protocol'\n",
    " 'socket type' 'status' 'tid' 'type']\n",
    " #\n",
    "[215011   1163 650182  58849   3282  60002   8869   3282    123   3282\n",
    " 530656   5927   5927   5927   2277   8869   5506]\n",
    " #\n",
    "I'm not entirely sure how much this data will be explicitly tokenized by a custom algorithm. There are many many inconsistencies in the parsing of the string into JSON that causes it to throw out a lot of values. This could likely be compensated for, but in the interest of time it may be better to avoid it and explore the useage of a pre-built algo on the string, like what is planned for parameters and arguments."
   ],
   "cell_type": "markdown",
   "metadata": {}
  },
  {
   "source": [
    "### Token Extraction\n",
    "With high and low level keys extracted, the next step of building the tokens is to look at the number and distribution of possible values for each token. This will be done by making a dataframe for each unique key with the key being the col and each observed value as the rows. The dataframe will then be made into a piechart with matplotlib and saved to jpg for inspection with a caption containing the number of unique values.\n",
    "#\n",
    "Excluded keys:\n",
    "* parameters\n",
    "* id\n",
    "* blob\n",
    "* xref\n",
    "* ts \n",
    "* arguments\n",
    "* tid\n",
    "#\n",
    "These will be excluded from tokenization as they are identifiers and/or contain lists or dicts not for explicit tokenization."
   ],
   "cell_type": "markdown",
   "metadata": {}
  },
  {
   "source": [
    "exclude_keys = ['parameters', 'id', 'blob', 'xref', 'ts', 'arguments', 'tid']\n",
    "\n",
    "master_dict = {\n",
    "    'methodName': [],\n",
    "    'method_name': [],\n",
    "    'read fd': [],\n",
    "    'socket fd': [],\n",
    "    'sysname': [],\n",
    "    'type': [],\n",
    "    'write fd': [],\n",
    "    'class': [],\n",
    "    'classType': [],\n",
    "    'interface': [],\n",
    "    'interfaceGroup': [],\n",
    "    'method': [],\n",
    "    'operationFlags': [],\n",
    "    'procname': [],\n",
    "    'subclass': []\n",
    "}\n",
    "\n",
    "for sample in sample_data:\n",
    "    sample_json = json.loads(sample)['behaviors']['dynamic']['host']\n",
    "    for behavior in sample_json:\n",
    "        for key, value in behavior.items():\n",
    "            if key not in exclude_keys and key != 'low':\n",
    "                master_dict[key].append(value)\n",
    "            elif key == 'low':\n",
    "                for low_behavior in value:\n",
    "                    for low_key, low_value in low_behavior.items():\n",
    "                        if low_key not in exclude_keys:\n",
    "                            master_dict[low_key].append(low_value)\n",
    "                        else:\n",
    "                            continue\n",
    "            else:\n",
    "                continue"
   ],
   "cell_type": "code",
   "metadata": {},
   "execution_count": null,
   "outputs": []
  },
  {
   "cell_type": "code",
   "execution_count": null,
   "metadata": {},
   "outputs": [],
   "source": [
    "for ref_key, total_values in master_dict.items():\n",
    "    if ref_key in high_uniq_keys:\n",
    "        total_count = high_frequency[np.where(high_uniq_keys == ref_key)[0][0]]\n",
    "        num_values = len(total_values)\n",
    "        len_match = total_count == num_values\n",
    "        print(ref_key + ': ')\n",
    "        print(len_match)\n",
    "        print('\\n')\n",
    "    elif ref_key in low_uniq_keys:\n",
    "        total_count = low_frequency[np.where(low_uniq_keys == ref_key)[0][0]]\n",
    "        num_values = len(total_values)\n",
    "        len_match = total_count == num_values\n",
    "        print(ref_key + ': ')\n",
    "        print(len_match)\n",
    "        print('\\n')\n",
    "    df = pd.DataFrame(total_values, columns=[ref_key])\n",
    "    with open('token_extraction\\\\csvs\\\\' + ref_key + '.csv', 'w') as write_csv:\n",
    "        df.to_csv(write_csv, index=False)"
   ]
  },
  {
   "cell_type": "code",
   "execution_count": null,
   "metadata": {},
   "outputs": [],
   "source": [
    "def make_plots(dataframe, filename):\n",
    "    dataframe.fillna(\"NaN\", inplace=True)\n",
    "    dataframe = dataframe.astype(\"category\")\n",
    "\n",
    "    key_name = dataframe.columns.values.tolist()[0]\n",
    "    dataframe[key_name] = dataframe[key_name].cat.as_ordered()\n",
    "    values = dataframe[key_name].to_numpy()\n",
    "    categories, counts = np.unique(values, return_counts=True)\n",
    "\n",
    "    plt.style.use('seaborn-muted')\n",
    "    sns.color_palette(\"muted\")\n",
    "\n",
    "    plot, (top, bottom) = plt.subplots(2, figsize=[10, 20])\n",
    "    plot.suptitle(\"Makeup and Frequency of Unique Values for Key: \" + key_name)\n",
    "\n",
    "    patches, text = top.pie(counts, labels=categories)\n",
    "    top.axis('equal')\n",
    "    top.set_title(\"Makeup of Unique Values for Key: \" + key_name)\n",
    "    percentage = 100.*counts/counts.sum()\n",
    "    labels = ['{0} - {1:1.2f}% ({2})'.format(i,j,k) for i,j,k in zip(categories, percentage, counts)]\n",
    "    top.legend(patches, labels, frameon=False, loc = 'center left', bbox_to_anchor=(-0.5, 0.5))\n",
    "\n",
    "    sns.histplot(ax=bottom, data=dataframe, y=key_name, hue=key_name, shrink=.8, legend=False, discrete=True)\n",
    "    bottom.set_title(\"Frequency of Unique Values for Key: \" + key_name)\n",
    "\n",
    "    plot.savefig('token_extraction\\\\visualizations\\\\' + filename + '.png', dpi=100, bbox_inches='tight')"
   ]
  },
  {
   "cell_type": "code",
   "execution_count": null,
   "metadata": {},
   "outputs": [],
   "source": [
    "omit_keys = []\n",
    "\n",
    "# WARNING: The csv files 'class', 'type' and 'sysname' are too large to be included in the repo. These will have to be created locally to fully utilize this script.\n",
    "\n",
    "# for csv_file in os.listdir('token_extraction\\\\csvs'):\n",
    "#     if csv_file.replace('.csv', '') not in omit_keys:\n",
    "#         with open('token_extraction\\\\csvs\\\\' + csv_file) as csv_path:\n",
    "#             data = pd.read_csv(csv_path)\n",
    "#         make_plots(data, csv_file.replace('.csv', ''))"
   ]
  },
  {
   "source": [
    "### Results\n",
    "Most plots turned out reasonably well, but ones with more unique values were problematic. These problematic keys were:\n",
    "* method\n",
    "* method_name\n",
    "* procname\n",
    "#\n",
    "To accomodate these we will implement a script to log percentages and counts for each unique value into a text file for each key."
   ],
   "cell_type": "markdown",
   "metadata": {}
  },
  {
   "cell_type": "code",
   "execution_count": 5,
   "metadata": {},
   "outputs": [
    {
     "output_type": "stream",
     "name": "stdout",
     "text": [
      "\"subclass\": \"PHONE\"\n"
     ]
    }
   ],
   "source": [
    "alt_keys = []\n",
    "\n",
    "# for key in alt_keys:\n",
    "#     with open('token_extraction\\\\csvs\\\\' + key + '.csv') as open_csv:\n",
    "#         key_data = pd.read_csv(open_csv)\n",
    "#     key_data.fillna(\"NaN\", inplace=True)\n",
    "#     values = key_data[key].to_numpy()\n",
    "#     categories, counts = np.unique(values, return_counts=True)\n",
    "#     categories = categories[np.argsort(-counts)]\n",
    "#     counts = counts[np.argsort(-counts)]\n",
    "#     percentage = 100.*counts/counts.sum()\n",
    "#     lines = ['{0} - {1:1.2f}% ({2}) \\n'.format(i,j,k) for i,j,k in zip(categories, percentage, counts)]\n",
    "#     with open('token_extraction\\\\raw\\\\' + key + '.txt', 'w') as write_txt:\n",
    "#         write_txt.writelines(lines)"
   ]
  },
  {
   "source": [
    "### Making the Dictionary\n",
    "With the data collected, we are now ready to prepare the finalized reference dictionary for a future tokenization function. Due to the nature of our raw data, pre-built tokenizers cannot be used with our custom dict as they rely on traditional separations between words and sentences which our data does not have. Thus, the actual tokenizer function will likely be built using Python's RegEx library so our dictionary structure needs to be optimized for compatability. \n",
    "#### Functions of the Dictionary\n",
    "* Compatable with n-grams (multiple delimiters at the same index)\n",
    "* Cheaply iterable (RegEx will split the behaviors into lists of tokens that then need to be referenced with indicies, this can't take very long)\n",
    "#### Dictionary Format\n",
    "* Int of token index as key\n",
    "* Value will be touple of RegEx expression and list of corresponding unique tokens as plain strings\n",
    "### Important Notes\n",
    "* interfaceGroup does not offer any additional information over interface, therefore it is not accounted for in the vocabulary and should be excluded from the final data\n",
    "* methodName will not be included in vocabulary or the final dataset. There are thousands of unique values in a sample size of only 200 and these values really only amount to a combination of the interface, method, and arguments keys. Therefore, the model should be able to form generalizations from the first two and arguments can be tokenized and implemented to provide the same level of data if it is necessary.\n",
    "* The vocabulary may turn out to be around 800 tokens. Due to the extreme length of each sample, this could become very expensive during training, so it is worth considering taking a look at the hidden vectors of each token after a few epochs and then concatenating those in a key that are very similar to decrease training cost. "
   ],
   "cell_type": "markdown",
   "metadata": {}
  },
  {
   "cell_type": "code",
   "execution_count": 7,
   "metadata": {},
   "outputs": [
    {
     "output_type": "stream",
     "name": "stdout",
     "text": [
      "['/data/data/com' '/system/bin/cat' '/system/bin/dexopt' '/system/bin/sh'\n '<pre-initialized>' 'AsyncTask #1' 'BUGLY_THREAD' 'IntentService[l'\n 'Jk7H' 'MidWorkThread' 'QueiD9ej' 'Thread-101' 'Thread-102' 'Thread-103'\n 'Thread-104' 'Thread-105' 'Thread-108' 'Thread-109' 'Thread-110'\n 'Thread-111' 'Thread-113' 'Thread-114' 'Thread-115' 'Thread-116'\n 'Thread-118' 'Thread-120' 'Thread-123' 'Thread-125' 'Thread-126'\n 'Thread-127' 'Thread-128' 'Thread-129' 'Thread-130' 'Thread-132'\n 'Thread-133' 'Thread-136' 'Thread-142' 'Thread-157' 'Thread-160'\n 'Thread-168' 'Thread-87' 'Thread-88' 'Thread-89' 'Thread-91' 'Thread-92'\n 'Thread-93' 'Thread-94' 'Thread-95' 'Thread-97' 'Thread-98' 'ad'\n 'afdejlql' 'air' 'anzmltoane' 'biz' 'brendsu' 'cat' 'cfdfvf' 'ch' 'chmod'\n 'cn' 'com' 'cpx' 'dilashama' 'dlki' 'edu' 'ensufwosr' 'eu' 'exin01'\n 'getprop' 'ggican' 'googleanzhi' 'googlems' 'gzg' 'igudi' 'info' 'jp'\n 'jyiaivi' 'logcat' 'ls' 'luy' 'midlet' 'movecont2' 'mvnxuuyuqbklpjpw'\n 'mwlqythh' 'net' 'ngjvnpslnp' 'nmwurmoxc' 'oeiah' 'of' 'org'\n 'pool-1-thread-1' 'pool-2-thread-1' 'pool-3-thread-1' 'pool-3-thread-2'\n 'pool-4-thread-1' 'pool-5-thread-1' 'pool-7-thread-1' 'ps' 'quri' 'ren'\n 'rom' 'ru' 's' 'service' 'sh' 'silao' 'srcdsnms' 'ssadsdf' 'su' 'tax'\n 'test' 'tj' 'tp5x' 'tta' 'ua' 'ulkfg' 'urw' 'vbkoxh' 'vbnxjb' 'vdman'\n 'vfiakd' 'vrnyl' 'vudk' 'vvxxbb' 'wcu' 'xgqkjm' 'xiaihui' 'xiivig' 'xw'\n 'yhonvqb' 'yun01' 'za000' 'zhuangbishenqi' 'zitong' 'zygote']\n[  3   1   1   1   1   1   1   1   1   1   1   1   1   1   1   1   1   1\n   1   1   1   1   1   1   1   1   1   1   1   1   1   1   1   1   1   1\n   1   1   1   1   1   1   1   1   1   1   1   1   1   1   1   1   1   1\n   1   1   1   1   1   1   7 205   1   1   1   2   1   2   1   1   1   1\n   1   1   1   1   1   1   1   1   1   1   1   1   1   7   1   1   1   1\n   7   1   1   1   1   1   1   1   2   1   2   1   4   1   1   1   1   1\n   1   2   1   1   1   1   1   1   1   1   1   1   1   1   1   1   1   1\n   1   1   1   1   1   1   1   1   1   1]\n\n\n['PwcD' 'Tiomiym9' 'WGt12' 'ada' 'adwo' 'akdfjd' 'alumberinc' 'andorid'\n 'android' 'androidemu' 'apk' 'app' 'apps' 'aqizhib' 'aql' 'arrow'\n 'attend' 'azyouxi' 'baoshi' 'battery' 'bb' 'bcfdfvf' 'bfveeopo' 'bowl'\n 'bratolubzet' 'bravo' 'bslsvpcn' 'bull88' 'cash' 'ccav' 'ccponcerinc'\n 'chenchel' 'colorme' 'com' 'convertoman' 'cooease' 'cql' 'crovjjs'\n 'cswnpr' 'd' 'de' 'def' 'depositmobi' 'dgoizzrboarj' 'dkfi' 'dobi'\n 'douniwaner' 'droid' 'drv' 'dxgdldfdycdchj' 'eoeof' 'espabit' 'example'\n 'exin02' 'ezahS1gi' 'facbbvhir' 'fanta' 'feifei' 'fengche' 'fepefepopab'\n 'fhkuuej' 'freda' 'free' 'game' 'gamedemo' 'games' 'gamex' 'gcaktairccvz'\n 'genaqeburi' 'google' 'googleapi' 'gp' 'gps' 'greensoft' 'gsh' 'guao'\n 'ha' 'han' 'hana' 'hanjins123123' 'hao' 'hh' 'holy' 'hongxiu' 'hosy'\n 'hssd' 'ic3b48cbcbd24e55b' 'ilbypx' 'inca' 'ion' 'iplhmk' 'ipukgw'\n 'iqeadmcuzf' 'jaw' 'jbb' 'jgvfvdaw' 'jlimwd' 'jonas' 'juyu' 'jwnnvvwxn'\n 'kait' 'kaiv' 'kajg' 'kangkang' 'kaoeiwk3223' 'kb' 'kbs' 'kbzezj'\n 'kdpyvc' 'kjw' 'kkk' 'ko' 'kwl' 'lck' 'lctyznvnh' 'lgz' 'li' 'll'\n 'llrgkj' 'locker' 'long01' 'loonggg' 'lpo' 'mDJswaqu4'\n 'manufacturatinkov' 'margaritasoft' 'mdf' 'meinv' 'metasploit' 'mix'\n 'mobi' 'modded' 'mogo' 'monkeytouchs' 'mrken' 'msefsgting' 'mskdev' 'muc'\n 'musicsleep' 'mwkek' 'mx' 'myfoot' 'nanoha' 'net' 'netlizard' 'newapp'\n 'newskin' 'nfidcq' 'ngthz' 'nhnewbank' 'ni' 'nijibolan' 'nomnq' 'note'\n 'notify1' 'ns1d' 'nth' 'oaAlmL' 'ohduxbbylb' 'onmsrbt' 'ooedhsl'\n 'openintents' 'or' 'orangeery' 'patusd' 'pointhim' 'police20' 'ppd' 'ps'\n 'qabocemawesi' 'qaolckwnvj' 'qeykn' 'qianmingdshi' 'qkhyzaopiz' 'qklsjv'\n 'qq' 'qunqiandao' 'rexsee' 'roamingsoft' 'rock' 'rokcvyfjtdp'\n 'rwbkulojmti' 'satismangrooup' 'sh' 'shinhan' 'shirley' 'silaisilao'\n 'sniff' 'soft' 'softforlife' 'software' 'ss' 'strongtech' 'symapp' 'task'\n 'termate' 'timer' 'timo' 'tqb' 'trdos' 'truefalse' 'ttb' 'tvone'\n 'txdvvmncciiri' 'underdev' 'une' 'utviqi' 'uus01' 'uyf' 'video'\n 'viploder' 'vvlncl' 'vwtavlp' 'wangyh' 'wb' 'we' 'weuh' 'wgk' 'wl'\n 'woorinewbank' 'wrsqc' 'wuzi' 'wvaomvba' 'wxqhbfz' 'xdwf' 'xee'\n 'xgssubbt' 'xiao88' 'xiaoniaolianliankan09' 'xmeudp' 'yci' 'ycvdgfwk'\n 'yfan' 'yongrun' 'yyasp' 'yybergeanzhi' 'zZMdMtw' 'za111' 'zcrqwa' 'zh'\n 'zhen001' 'znn' 'zrh' 'zwlxiaoxiao' 'zyj']\n[ 1  1  1  1  1  1  1  1 30  3  1  1  2  1  1  1  1  1  1  1  1  2  1  1\n  1  1  1  1  1  1  1  1  3  7  1  1  1  1  1  1  1  1  1  1  1  1  1  1\n  1  1  1  1  3  1  1  1  1  1  1  1  1  1  1  1  1  1  1  1  1  3  1  3\n  1  2  1  1  1  1  1  1  1  1  1  1  1  1  1  1  1  1  1  1  1  1  1  1\n  1  1  1  1  1  1  1  1  1  1  1  1  1  1  1  1  1  1  1  1  1  1  1  1\n  1  1  1  1  1  1  1  1  1  1  3  1  1  1  1  1  1  1  1  1  1  1  1  1\n  1  1  1  1  1  1  1  1  1  1  1  1  1  1  1  1  1  1  1  1  1  1  1  1\n  3  1  1  1  1  1  1  3  1  1  1  1  1  1  1  1  1  1  1  1  1  1  5  2\n  1  1  1  1  1  1  1  1  1  1  1  1  1  1  1  1  1  1  1  1  1  1  2  1\n  1  1  1  1  1  1  1  1  1  1  1  1  1  1  1  1  1  1  1  1  1  1  1  1\n  1  1  1  1  1]\n\n\n['A120404_camera2' 'DropBubble' 'GestureWidget_free'\n 'KalromSystems.FlappyYou' 'Mzgrr' 'Potzimm9' 'Rn.adS:xs' 'Solo'\n 'TrueOrFalse' 'a2ar.sfm.adp2p' 'aardehddeluxeedition' 'abc'\n 'abxingxdmimi.test' 'adamusice' 'admin.hongyan' 'akalc' 'akdfkda'\n 'andrinst' 'android' 'android.appinstaller'\n 'android.contentabo_l01_sim_univ' 'android.ebk.hana.ibkb'\n 'android.games.mine' 'antivirus' 'apc.woori.kr.android.apd' 'app'\n 'app.sxmn' 'app253480' 'app253489' 'appdownload' 'application' 'apps'\n 'appzwlxiaoxiao' 'autoanswer' 'avve' 'awgubnyx' 'babbleharbor'\n 'backup.think' 'bbyupn' 'bcdbcf12014.mobile' 'bluetooth' 'bmsvhzhlh'\n 'bull99' 'bysc' 'calendar' 'callrecorder' 'cepter' 'chrm67.service'\n 'clock' 'cn' 'cocos.gj' 'coolpic' 'cores' 'cosina.game.kickkick'\n 'crazygame' 'csppxx.lock0011' 'cug.compass' 'cxyyvm/files/libyunsvc'\n 'dawdlermenu' 'dd' 'dd.axkyrbacnplcm.vj' 'ddp' 'dkuca' 'dlpushplugin'\n 'dmjino:sev' 'donote' 'eascwz' 'eeepsjej' 'egypt' 'eley' 'emcpvq'\n 'emu.hwjisufeiche' 'english.audiostory' 'essexyfaceGR' 'exam.accountant'\n 'ezboys:sev' 'filemanager' 'firstdevelop' 'flashlight' 'flickrdailyshow'\n 'food02' 'future' 'fwlnxn' 'gCrziJ' 'game.RedMenaceb1'\n 'game.dongtaigaonanduzhaocha' 'game.kaoladaishu' 'game.plane'\n 'game.zombiesboss' 'gcwhbl' 'gfiybbpc' 'gfsittfy' 'girl.zipai'\n 'google.kr.channel.korea.app' 'google.nhb.kr.bk.app' 'gota'\n 'guihuijipaon.test' 'gxluh' 'hanyu' 'harvemario:emulator'\n 'harvexueren:emulator' 'hasvgf:sev' 'holocaust435' 'honda' 'idhfxz'\n 'install' 'instman' 'jdjgl' 'jewels' 'jgvfvdaw'\n 'jgvfvdaw/files/libyunsvc' 'jnkgpwcl' 'jsy.kittymemohvc' 'jvje.nuky'\n 'kaqdok:es' 'kb' 'kgopon' 'kigof.qabocemawesi' 'kkc.xsezse' 'kqsgzyjzjhb'\n 'kr' 'kura' 'legendasura' 'lhtnemrp/files/libyunsvc' 'live'\n 'livewallpaper.xiangcun1' 'livewallpapersb127' 'llk' 'maboo.tow'\n 'mahjongg' 'man30' 'manager.root' 'market' 'marketapp'\n 'merrychristmas2015' 'message' 'mhwwkd:es' 'mkt' 'mmreader1065'\n 'mmreader1075' 'mmreader255' 'mmreader354' 'mmreader383' 'mmreader392'\n 'mmreader418' 'mmreader588' 'mmreader611' 'mmreader678' 'mmreader681'\n 'mmreader717' 'mmreader801' 'monkey.ui' 'music20130514000421' 'mxdsharde'\n 'nddhkx:es' 'nghcyr' 'nhyundai' 'nijibolan' 'ninjaturtlesflapy'\n 'noort.bcddgi12257.model' 'notor.bcdidg12725.model' 'nyzombies' 'nzdmdn'\n 'nzza' 'obzalbch' 'ojhsgjky' 'olivedream' 'ophone.chapter4_4' 'org'\n 'patax.fepefepopab' 'penetratepro' 'pintu.view' 'pire.xahovaxuno'\n 'pjthtn' 'player.xxx.super.girl.sett' 'playwithyourdogdalmatian' 'polooy'\n 'popdancequeenpartygirl' 'post.avproguard' 'proin' 'punbshfp' 'pziuxn'\n 'qBanHuoYingRenWu' 'qckbmn:es' 'qeam' 'qqlocation' 'qqmm' 'qqonline'\n 'qqxjdg' 'quri.genaqeburi' 'rjceni:es' 'rjmwep' 'rlucmxtu' 'roboty'\n 'ruganovich' 'ruhutianyi' 'saimadaheng1009' 'salonkrasoty' 'sbvoa'\n 'screensaver.alnine6' 'screensaver.hsxgiphone2' 'screensaver.mdn7'\n 'search' 'security' 'seeing.master.understanding.climate.knife'\n 'services' 'shuazuan' 'shuizu' 'sign' 'simkawang' 'singlebook254995'\n 'slushai' 'solitaire' 'stage' 'stlstart' 'systemui'\n 'talkingangela.yOUt1116.j.f.h.K.S' 'teje.texori' 'tencent.zdevs.bah'\n 'tencet.qbaiduq.weixin.org' 'three' 'traintime' 'ttdxbX' 'untoenynh'\n 'uowlnv:sev' 'uswg' 'uus02' 'uyuyp' 'vbnbg.zsag' 'vdfrt.hkb' 'view' 'vn'\n 'wgoosystem' 'wyyx.ttkpsjbwg' 'x' 'xavg.bgtwa' 'xgyhdk' 'xiaochu'\n 'xofwfj' 'yaoqianshu3' 'yhbdds.nxlfj' 'zhen002' 'zhenrenqian' 'zqjfewhb'\n 'zrlyuhm' 'zwyouhuadashic']\n[1 1 1 1 1 1 1 1 1 1 1 3 1 1 1 1 1 1 2 1 1 1 1 1 1 5 1 1 1 1 1 2 1 1 1 1 1\n 1 1 1 1 1 1 1 1 1 1 1 1 2 1 1 1 1 1 1 1 1 1 1 1 1 1 1 1 1 1 1 1 1 1 1 1 1\n 1 1 1 1 1 1 1 1 1 1 1 1 1 1 1 1 1 1 1 1 1 1 1 1 1 1 1 1 1 1 1 3 1 1 1 1 1\n 1 1 1 1 1 1 1 1 1 1 1 1 1 1 1 1 1 1 1 1 1 1 1 1 1 1 1 1 1 1 1 1 1 1 1 1 1\n 1 1 1 1 1 1 1 1 1 1 1 1 1 1 1 1 1 1 1 1 1 1 1 1 1 1 1 1 1 1 1 1 1 1 1 1 1\n 1 1 1 1 1 1 1 1 1 1 1 1 1 1 1 1 1 1 1 1 1 1 1 1 1 1 1 1 1 2 1 1 1 1 1 1 1\n 1 1 1 1 1 1 1 1 4 1 1 1 1 1 1 1 1 1 1 1 1 1 1 1]\n\n\n"
     ]
    }
   ],
   "source": [
    "# Below code looks at the makeup of unique procname values in hopes of creating tokens from the frequency of different subvalues\n",
    "\n",
    "first_level = []\n",
    "second_level = []\n",
    "third_level = []\n",
    "procname_info = open(\"token_extraction\\\\raw\\\\procname.txt\", 'r')\n",
    "for line in procname_info: \n",
    "    value = line.split(\" - \")[0]\n",
    "    levels = value.split('.')\n",
    "    level_count = 0\n",
    "    for level in levels:\n",
    "        if level_count == 0:\n",
    "            first_level.append(level)\n",
    "        elif level_count == 1: \n",
    "            second_level.append(level)\n",
    "        elif level_count == 2:\n",
    "            third_level.append('.'.join(levels[2:]))\n",
    "        level_count += 1\n",
    "\n",
    "first_uniq, first_counts = np.unique(first_level, return_counts=True)\n",
    "second_uniq, second_counts = np.unique(second_level, return_counts=True)\n",
    "third_uniq, third_counts = np.unique(third_level, return_counts=True)\n",
    "\n",
    "print(first_uniq)\n",
    "print(first_counts)\n",
    "print('\\n')\n",
    "\n",
    "print(second_uniq)\n",
    "print(second_counts)\n",
    "print('\\n')\n",
    "\n",
    "print(third_uniq)\n",
    "print(third_counts)\n",
    "print('\\n')"
   ]
  },
  {
   "cell_type": "code",
   "execution_count": 1,
   "metadata": {},
   "outputs": [],
   "source": [
    "method_info = open(\"token_extraction\\\\raw\\\\sysname.txt\", 'r')\n",
    "formatted_lines = []\n",
    "count = 578\n",
    "for line in method_info:\n",
    "    value = line.split(\" - \")[0]\n",
    "    formatted_lines.append('{1}: (\\'\\\"sysname\\\": \\\"{0}\\\"\\', [\\'\\\"sysname\\\": \\\"{0}\\\"\\']),\\n'.format(value, count))\n",
    "    count += 1\n",
    "method_info.close()\n",
    "\n",
    "with open('formatted_sysname.txt', 'w') as write:\n",
    "    for line in formatted_lines:\n",
    "        write.write(line)"
   ]
  },
  {
   "source": [
    "## ID and TS Features"
   ],
   "cell_type": "markdown",
   "metadata": {}
  }
 ]
}